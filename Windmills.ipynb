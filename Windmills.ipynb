{
 "metadata": {
  "language_info": {
   "codemirror_mode": {
    "name": "ipython",
    "version": 3
   },
   "file_extension": ".py",
   "mimetype": "text/x-python",
   "name": "python",
   "nbconvert_exporter": "python",
   "pygments_lexer": "ipython3",
   "version": "3.6.6-final"
  },
  "orig_nbformat": 2,
  "kernelspec": {
   "name": "python3",
   "display_name": "Python 3.6.6 64-bit ('anaconda3': virtualenv)",
   "metadata": {
    "interpreter": {
     "hash": "01d90cb8474d2969e4768a3dfde681075977bc815cb3833732791a567a4cf87d"
    }
   }
  }
 },
 "nbformat": 4,
 "nbformat_minor": 2,
 "cells": [
  {
   "cell_type": "code",
   "execution_count": 1,
   "metadata": {},
   "outputs": [],
   "source": [
    "## from p.264 Sustainable energy without the hot air"
   ]
  },
  {
   "cell_type": "code",
   "execution_count": 2,
   "metadata": {},
   "outputs": [],
   "source": [
    "## power per m2 about 2.2 W/m2 at avg. windspeed 6 m/s\n",
    "Pperm2 = 2.2"
   ]
  },
  {
   "cell_type": "code",
   "execution_count": 6,
   "metadata": {},
   "outputs": [
    {
     "output_type": "stream",
     "name": "stdout",
     "text": [
      "9000000000\n"
     ]
    }
   ],
   "source": [
    "## Noordzee 20m diep -> 300x30km\n",
    "A = 300*30*1000*1000\n",
    "print(A)"
   ]
  },
  {
   "source": [
    "<img src=\"noordzee.png\">"
   ],
   "cell_type": "markdown",
   "metadata": {}
  },
  {
   "cell_type": "code",
   "execution_count": 13,
   "metadata": {},
   "outputs": [
    {
     "output_type": "stream",
     "name": "stdout",
     "text": [
      "19.8 GW\n"
     ]
    }
   ],
   "source": [
    "Ptot = A*Pperm2\n",
    "print(Ptot/1e9, 'GW')"
   ]
  },
  {
   "source": [
    "<img src=\"elektriciteit.png\">"
   ],
   "cell_type": "markdown",
   "metadata": {}
  },
  {
   "cell_type": "code",
   "execution_count": 4,
   "metadata": {},
   "outputs": [
    {
     "output_type": "stream",
     "name": "stdout",
     "text": [
      "61.875\n"
     ]
    }
   ],
   "source": [
    "# Totale electriciteit ongeveer 32 GW\n",
    "# Percentage:\n",
    "print(19.8/32*100)"
   ]
  },
  {
   "cell_type": "code",
   "execution_count": 12,
   "metadata": {},
   "outputs": [
    {
     "output_type": "stream",
     "name": "stdout",
     "text": [
      "Benodigde oppervlakte Wind Farm in Greenland, om het volledige electrisch vermogen Nederland te leveren: 4815.38  km2\n"
     ]
    }
   ],
   "source": [
    "# second option, do it on Greenland!\n",
    "# MacKay, p. 265\n",
    "# Power per unit area (av. wind speed UK: 6 m/s)\n",
    "ws_UK = 6 # m/s\n",
    "PPUA_6ms = 2.2 #W/m2\n",
    "\n",
    "# https://globalwindatlas.info/\n",
    "# av. wind speed over Greenland: 9 m/s\n",
    "ws_Greenland = 9 # m/s\n",
    "\n",
    "# MacKay, p. 265, equation B.8\n",
    "# Power from wind depends on wind speed to the power of 3\n",
    "PPUA_9ms = ((ws_Greenland / ws_UK) ** 3) * PPUA_6ms\n",
    "\n",
    "# Approximate distance Holland to Greenland\n",
    "dist = 3000 #km\n",
    "\n",
    "# Imagine a Wind Farm in Greenland\n",
    "# What would be the loss (when transporting the electricity over a cable)?\n",
    "# https://en.wikipedia.org/wiki/High-voltage_direct_current\n",
    "# HVDC transmission losses are quoted at 3.5% per 1,000 km\n",
    "loss = 3.5 * dist / 1000\n",
    "PPUA_9ms_AfterLoss = PPUA_9ms * ((100 - loss) / 100)\n",
    "\n",
    "\n",
    "# Info Michel: Opgesteld electrisch vermogen Nederland: ong. 32 GW\n",
    "EV_NL = 32e9 # Opgesteld electrisch vermogen Nederland in Watt\n",
    "\n",
    "# Benodigde oppervlakte Wind Farm in Greenland, om het volledige electrisch \n",
    "# vermogen Nederland te leveren\n",
    "Area_m2 = EV_NL / PPUA_9ms_AfterLoss\n",
    "Area_km2 = Area_m2 / 1e6\n",
    "\n",
    "print('Benodigde oppervlakte Wind Farm in Greenland,' \\\n",
    "      ' om het volledige electrisch vermogen Nederland te leveren:' \\\n",
    "          , \"%.2f\" % Area_km2,' km2')"
   ]
  },
  {
   "cell_type": "code",
   "execution_count": null,
   "metadata": {},
   "outputs": [],
   "source": []
  }
 ]
}